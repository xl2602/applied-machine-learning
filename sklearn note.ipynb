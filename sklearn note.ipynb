{
 "cells": [
  {
   "cell_type": "markdown",
   "metadata": {},
   "source": [
    "# Notes\n",
    "notes for class Applied Machine Learning"
   ]
  },
  {
   "cell_type": "markdown",
   "metadata": {},
   "source": [
    "### Compare two ML model\n",
    "* time to fit/build the model\n",
    "* memory to store\n",
    "* time to predict"
   ]
  },
  {
   "cell_type": "markdown",
   "metadata": {},
   "source": [
    "### Parametric vs Non-Parametric model\n",
    "* parametric model has a fixed set of parameters that we learn from data\n",
    "\t* trees, forests, SVMs\n",
    "* non-p model scales complexity with number of data\n",
    "\t* linear models"
   ]
  },
  {
   "cell_type": "markdown",
   "metadata": {},
   "source": [
    "### Cross Validation\n",
    "* Three-fold split\n",
    "\t* training set, validation set, test set\n",
    "* Process of tuning parameters (hyper parameters | not model parameters)\n",
    "\t0. start with: (1) a dataset, (2) a candidate set of parameters we want to try \n",
    "\t1. split dataset into training and test\n",
    "\t\t* scikit learn: not stratify in defalut \n",
    "\t\t* good to train_test_split(X, y, stratify=y)\n",
    "\t2. cross validation on training set --> find best setting for parameters\n",
    "\t4. retrain on whole training set use the best param \n",
    "\t5. evaluate on test (ONCE!)\n",
    "* Strategies\n",
    "\t* usualy 5 or 10, scikit learn default 3\n",
    "\t* standard k-fold just split fold by order.\n",
    "\t* stratified k-fold: (most commonly)\n",
    "\t\t* Preserve the class frequencies in each fold to be the same as overall dataset\n",
    "\t\t* scikitlearnl: defalt cv is stratified, BUT not shuffle\n",
    "\t* LOO - leave 1 out: (bad. high variance, long time)\n",
    "\t\t* k = n_sample\n",
    "\t* repeated k-fold:\n",
    "\t\t* run k-fold cv multiple times with shuffle\n",
    "\t* shuffle split/ stratified shuffle split\n",
    "\t\t* specify #iterations, training set size, and test set (validation) size.\n",
    "\t\t* repeatly sample disjoint training and test set randomly\n",
    "\t* GCV - group k-fold: \n",
    "\t\t* for data not IID, and has correaltions between samples\n",
    "\t\t* there are several groups in the data taht each contain highly correlated samples\n",
    "\t\t* each group is contained in exact one fold (one fold may have multiple groups)\n",
    "\t* time series split\n",
    "\t\t* for data not IID, and correlated with time\n",
    "\t\t* split fold by time\n",
    "\t\t* always test on the last chunk (predict future data)\n",
    "\t\t* training sets are overlapping with test in this case.\n",
    "\n",
    "\t "
   ]
  },
  {
   "cell_type": "markdown",
   "metadata": {},
   "source": [
    "### Efficient Cross Validation\n",
    "Models with build-in cross validation\n",
    "* RidgeCV()\n",
    "\t* GCV, approximation to LOO\n",
    "\t* we cannot pick CV\n",
    "* LarsCV()\n",
    "* LassoLarsCV()\n",
    "* ElasticNetCV()\n",
    "* Use path algorithm to compute the full solution path\n",
    "* LogisticRegressionCV() uses warm-starts, doesn't support all solvers\n",
    "* all have resonable build-in parameter grids\n"
   ]
  },
  {
   "cell_type": "code",
   "execution_count": 11,
   "metadata": {},
   "outputs": [],
   "source": [
    "%matplotlib inline\n",
    "import matplotlib.pyplot as plt\n",
    "import numpy as np\n",
    "import pandas as pd"
   ]
  },
  {
   "cell_type": "code",
   "execution_count": 10,
   "metadata": {},
   "outputs": [],
   "source": [
    "# Simple dataset for KNN\n",
    "\n",
    "from sklearn.datasets import make_blobs\n",
    "from sklearn.model_selection import train_test_split\n",
    "\n",
    "X, y = make_blobs(centers=2, cluster_std=2, random_state=0, n_samples=500)\n",
    "\n",
    "# default 75% 25%\n",
    "X_train, X_test, y_train, y_test = train_test_split(X, y, stratify=y)"
   ]
  },
  {
   "cell_type": "markdown",
   "metadata": {},
   "source": [
    "##### Cross Validation Generators"
   ]
  },
  {
   "cell_type": "code",
   "execution_count": 7,
   "metadata": {},
   "outputs": [
    {
     "name": "stdout",
     "output_type": "stream",
     "text": [
      "KFold:\n[ 0.78666667  0.78666667  0.8         0.81333333  0.8       ]\nSKFold:\n[ 0.80263158  0.76315789  0.77333333  0.78378378  0.87837838]\nShuffle Split:\n[ 0.73451327  0.79646018  0.85840708  0.79646018  0.80530973  0.78761062\n  0.79646018  0.85840708  0.79646018  0.81415929  0.77876106  0.78761062\n  0.69911504  0.81415929  0.82300885  0.77876106  0.80530973  0.84070796\n  0.83185841  0.73451327]\n"
     ]
    }
   ],
   "source": [
    "from sklearn.model_selection import KFold, StratifiedKFold, ShuffleSplit, cross_val_score\n",
    "from sklearn.neighbors import KNeighborsClassifier\n",
    "\n",
    "# default n_neighbor in this example 5\n",
    "kfold = KFold(n_splits=5)\n",
    "skfold = StratifiedKFold(n_splits=5, shuffle=True)\n",
    "ss = ShuffleSplit(n_splits=20, train_size=.4, test_size=.3)\n",
    "\n",
    "print(\"KFold:\\n{}\".format(cross_val_score(KNeighborsClassifier(), X_train, y_train, cv=kfold)))\n",
    "print(\"SKFold:\\n{}\".format(cross_val_score(KNeighborsClassifier(), X_train, y_train, cv=skfold)))\n",
    "print(\"Shuffle Split:\\n{}\".format(cross_val_score(KNeighborsClassifier(), X_train, y_train, cv=ss)))"
   ]
  },
  {
   "cell_type": "markdown",
   "metadata": {},
   "source": [
    "##### Grid Search"
   ]
  },
  {
   "cell_type": "code",
   "execution_count": 8,
   "metadata": {},
   "outputs": [
    {
     "name": "stdout",
     "output_type": "stream",
     "text": [
      "best mean cv scores: 0.824\nbest params: {'n_neighbors': 13}\ntest set score: 0.768\n"
     ]
    }
   ],
   "source": [
    "from sklearn.model_selection import GridSearchCV\n",
    "import numpy as np\n",
    "import pandas as pd\n",
    "\n",
    "\n",
    "# add grid search to iterate different param settings\n",
    "param_grid = {'n_neighbors': np.arange(1, 15, 2)}\n",
    "grid = GridSearchCV(KNeighborsClassifier(), param_grid=param_grid, cv=10)\n",
    "grid.fit(X_train, y_train)\n",
    "\n",
    "print(\"best mean cv scores: {:.3f}\".format(grid.best_score_))\n",
    "print(\"best params: {}\". format(grid.best_params_))\n",
    "\n",
    "print(\"test set score: {:.3f}\".format(grid.score(X_test, y_test)))"
   ]
  },
  {
   "cell_type": "code",
   "execution_count": 12,
   "metadata": {
    "collapsed": false
   },
   "outputs": [
    {
     "data": {
      "text/plain": [
       "<matplotlib.legend.Legend at 0x112652cf8>"
      ]
     },
     "execution_count": 12,
     "metadata": {},
     "output_type": "execute_result"
    },
    {
     "data": {
      "image/png": "[encoded data removed]",
      "text/plain": [
       "<matplotlib.figure.Figure at 0x112362be0>"
      ]
     },
     "metadata": {},
     "output_type": "display_data"
    }
   ],
   "source": [
    "results = pd.DataFrame(grid.cv_results_)\n",
    "results.plot('param_n_neighbors', 'mean_train_score')\n",
    "results.plot('param_n_neighbors', 'mean_test_score', ax=plt.gca())\n",
    "plt.fill_between(results.param_n_neighbors.astype(np.int),\n",
    "                 results['mean_train_score'] + results['std_train_score'],\n",
    "                 results['mean_train_score'] - results['std_train_score'], alpha=0.2)\n",
    "plt.fill_between(results.param_n_neighbors.astype(np.int),\n",
    "                 results['mean_test_score'] + results['std_test_score'],\n",
    "                 results['mean_test_score'] - results['std_test_score'], alpha=0.2)\n",
    "plt.legend()"
   ]
  },
  {
   "cell_type": "markdown",
   "metadata": {},
   "source": [
    "## Supervised Learning"
   ]
  },
  {
   "cell_type": "markdown",
   "metadata": {},
   "source": [
    "### K Nearest Neighbors - KNN\n",
    "* Distance can be any\n",
    "* more neighbors --> more simplify boundry; less --> more complex shape "
   ]
  },
  {
   "cell_type": "code",
   "execution_count": 14,
   "metadata": {
    "collapsed": true
   },
   "outputs": [
    {
     "name": "stdout",
     "output_type": "stream",
     "text": [
      "accuracy: 0.77\n"
     ]
    }
   ],
   "source": [
    "knn = KNeighborsClassifier(n_neighbors=1)\n",
    "knn.fit(X_train, y_train)\n",
    "print(\"accuracy: {:.2f}\".format(knn.score(X_test, y_test)))"
   ]
  },
  {
   "cell_type": "markdown",
   "metadata": {},
   "source": [
    "### Nearest Centroid - NC\n",
    "* limit to linear dicision boundries!\n",
    "* Computes the centroid or the mean of each class\n",
    "* classifes each point by which centroid is the closest\n"
   ]
  },
  {
   "cell_type": "code",
   "execution_count": 15,
   "metadata": {
    "collapsed": false
   },
   "outputs": [
    {
     "name": "stdout",
     "output_type": "stream",
     "text": [
      "accuracy: 0.80\n"
     ]
    }
   ],
   "source": [
    "from sklearn.neighbors import NearestCentroid\n",
    "\n",
    "nc = NearestCentroid()\n",
    "nc.fit(X_train, y_train)\n",
    "print(\"accuracy: {:.2f}\".format(nc.score(X_test, y_test)))"
   ]
  },
  {
   "cell_type": "markdown",
   "metadata": {
    "collapsed": true
   },
   "source": [
    "### Nearest Shrunken Centroid\n",
    "* pick a positive shrinking threshold\n",
    "* moving the centroid towards zero by threshold\n",
    "* For example if threshold was 2.0, a centroid of 3.2 would be shrunk to 1.2, a centroid of -3.4 would be shrunk to -1.4, and a centroid of 1.2 would be shrunk to zero.\n",
    "* the new sample is classified by the usual nearest centroid rule, but using the shrunken class centroids.\n",
    "* 0 will be ignored (a selection)\n",
    "* limit model complexity"
   ]
  },
  {
   "cell_type": "markdown",
   "metadata": {
    "collapsed": true
   },
   "source": [
    ""
   ]
  },
  {
   "cell_type": "markdown",
   "metadata": {
    "collapsed": true
   },
   "source": [
    "### KNN vs NC\n",
    "* n = n_samples, p = n_features\n",
    "* time: O(p*nlogn) vs O(n*p)\n",
    "* memory: O(n*p) vs O(n_classes * p) \n",
    "* predict: O(k*logn) for fixed p vs O(n_classes * p)\n",
    "* KNN memroy scales with data and slow on high dimention, large dataset"
   ]
  },
  {
   "cell_type": "markdown",
   "metadata": {
    "collapsed": true
   },
   "source": [
    "## Regression\n",
    "* Ridge - l2 palnalize equally\n",
    "* Lasso - l1 feature selection\n",
    "* Elastic Net - l1+l2\n",
    "* Robust Fit - reduece influence of outliers\n",
    "\t* RANSAC - modeling on a subset of data and pick best\n",
    "\t* Huber Loss - threshold, and quadratic within threshold, linear outside"
   ]
  },
  {
   "cell_type": "code",
   "execution_count": 13,
   "metadata": {
    "collapsed": true
   },
   "outputs": [],
   "source": [
    "import matplotlib.pyplot as plt\n",
    "% matplotlib inline\n",
    "\n",
    "import numpy as np\n",
    "plt.rcParams['figure.dpi'] = 300"
   ]
  },
  {
   "cell_type": "code",
   "execution_count": 15,
   "metadata": {
    "collapsed": true
   },
   "outputs": [],
   "source": [
    "from sklearn.linear_model import Ridge, LinearRegression, Lasso, RidgeCV, LassoCV\n",
    "from sklearn.datasets import load_boston\n",
    "boston = load_boston()\n",
    "\n",
    "from sklearn.utils import shuffle\n",
    "X, y = boston.data, boston.target\n",
    "X, y = shuffle(X, y)"
   ]
  },
  {
   "cell_type": "code",
   "execution_count": 17,
   "metadata": {},
   "outputs": [],
   "source": [
    "from sklearn.model_selection import train_test_split\n",
    "X_train, X_test, y_train, y_test = train_test_split(X, y, random_state=42)\n",
    "# random_state=42 used for random sampling"
   ]
  },
  {
   "cell_type": "code",
   "execution_count": 31,
   "metadata": {
    "collapsed": true
   },
   "outputs": [
    {
     "name": "stdout",
     "output_type": "stream",
     "text": [
      "(379, 13)\n0.661957948937\n0.657160215671\n(13,)\n"
     ]
    }
   ],
   "source": [
    "from sklearn.model_selection import GridSearchCV\n",
    "from sklearn.preprocessing import PolynomialFeatures, scale\n",
    "\n",
    "\n",
    "param_grid = {'alpha': np.logspace(-3, 3, 7)}\n",
    "grid = GridSearchCV(Ridge(), param_grid, cv=5)\n",
    "grid.fit(X_train, y_train)\n",
    "\n",
    "# add features\n",
    "X_poly = PolynomialFeatures(include_bias=False).fit_transform(scale(X_train))\n",
    "print(X_train.shape)\n",
    "print(np.mean(cross_val_score(LinearRegression(), X_train, y_train, cv=10)))\n",
    "print(np.mean(cross_val_score(Ridge(), X_train, y_train, cv=10)))\n",
    "\n",
    "LinearRegression.fit\n",
    "\n",
    "ridge100 = Ridge(alpha=100).fit(X_train, y_train)\n",
    "\n",
    "ridge1 = Ridge(alpha=1).fit(X_train, y_train)\n",
    "\n",
    "print(ridge1.coef_.shape)"
   ]
  },
  {
   "cell_type": "markdown",
   "metadata": {},
   "source": [
    "* Regulization -- lots of regulization limits the influence of individual points"
   ]
  },
  {
   "cell_type": "markdown",
   "metadata": {},
   "source": [
    "### Linear Model for binary Classification\n",
    "* LogReg - if we need/or not need probability estimate\n",
    "\t* Logistic regression\n",
    "\t* Penalized Logistic Regression (C is inverse of alpha --> small C - lots of regulization)\n",
    "* SVM - if do not need probability estimate"
   ]
  },
  {
   "cell_type": "markdown",
   "metadata": {},
   "source": [
    "### Linear Model for multi Classification\n",
    "* Reduction to binary classification\n",
    "\t* 1 vs rest (standard!)\n",
    "\t\t* n binary classifiers\n",
    "\t\t* if we have 4 classes --> 4 binary classifiers 1 vs {2,3,4} etc..\n",
    "\t\t* prediction: class with highest score\n",
    "\t* 1 vs 1\n",
    "\t\t* n*(n-1)/2 binary classifiers\n",
    "\t\t* prediction: .....\n",
    "* Multinomial Logistic Regression\n",
    "\t* same rules as OvR"
   ]
  },
  {
   "cell_type": "markdown",
   "metadata": {},
   "source": [
    "##### In scikit learn\n",
    "* OvO: only SVC\n",
    "* OvR: default for all linear models, include logistic regression"
   ]
  },
  {
   "cell_type": "markdown",
   "metadata": {},
   "source": [
    "#### Computational consideration\n",
    "* liear SVC: USE `LinearSVC` instead of `SVC(kernel='linear')`, `LinearSVC` is faster\n",
    "* n_features >> n_samples: `Lars` instead of `Lasso`\n",
    "\n",
    "when n_sample > 10,000\n",
    "* `LinearSVC`, `Logistic`: `dual=False` if n_samples >> n_features\n",
    "* `LogisticRegression(solver=\"sag\")` for large n_samples.\n",
    "* Stochastic Gradient Descent for \"n_samples really large\""
   ]
  },
  {
   "cell_type": "code",
   "execution_count": 5,
   "metadata": {},
   "outputs": [
    {
     "name": "stdout",
     "output_type": "stream",
     "text": [
      "(150, 4)\n(150,)\n[50 50 50]\n(3, 4)\n(3, 4)\n[[-0.42340381  0.96173902 -2.51955766 -1.08586558]\n [ 0.53419549 -0.318011   -0.20539083 -0.93973403]\n [-0.11079168 -0.64372803  2.72494848  2.0255996 ]]\nLogisticRegression(C=1.0, class_weight=None, dual=False, fit_intercept=True,\n          intercept_scaling=1, max_iter=100, multi_class='multinomial',\n          n_jobs=1, penalty='l2', random_state=None, solver='lbfgs',\n          tol=0.0001, verbose=0, warm_start=False)\n"
     ]
    }
   ],
   "source": [
    "from sklearn.datasets import load_iris\n",
    "from sklearn.linear_model import LogisticRegression\n",
    "from sklearn.svm import LinearSVC\n",
    "import numpy as np\n",
    "\n",
    "iris = load_iris()\n",
    "X, y = iris.data, iris.target\n",
    "\n",
    "# count number of obs. in each category\n",
    "np.bincount(y)\n",
    "\n",
    "print(X.shape)\n",
    "print(y.shape)\n",
    "print(np.bincount(y))\n",
    "\n",
    "logreg = LogisticRegression(multi_class=\"multinomial\", solver=\"lbfgs\").fit(X, y)\n",
    "linearsvm = LinearSVC().fit(X, y)\n",
    "\n",
    "print(logreg.coef_.shape)\n",
    "print(linearsvm.coef_.shape)\n",
    "# 3 categories and 4 features\n",
    "print(logreg.coef_)\n",
    "\n",
    "print(logreg)"
   ]
  },
  {
   "cell_type": "code",
   "execution_count": null,
   "metadata": {},
   "outputs": [],
   "source": [
    ""
   ]
  }
 ],
 "metadata": {
  "kernelspec": {
   "display_name": "Python [conda root]",
   "language": "python",
   "name": "conda-root-py"
  },
  "language_info": {
   "codemirror_mode": {
    "name": "ipython",
    "version": 3.0
   },
   "file_extension": ".py",
   "mimetype": "text/x-python",
   "name": "python",
   "nbconvert_exporter": "python",
   "pygments_lexer": "ipython3",
   "version": "3.5.2"
  }
 },
 "nbformat": 4,
 "nbformat_minor": 0
}